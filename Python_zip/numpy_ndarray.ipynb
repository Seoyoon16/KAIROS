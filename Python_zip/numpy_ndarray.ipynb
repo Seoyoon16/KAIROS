{
  "nbformat": 4,
  "nbformat_minor": 0,
  "metadata": {
    "colab": {
      "provenance": []
    },
    "kernelspec": {
      "name": "python3",
      "display_name": "Python 3"
    },
    "language_info": {
      "name": "python"
    }
  },
  "cells": [
    {
      "cell_type": "code",
      "execution_count": null,
      "metadata": {
        "id": "AOUolFpuqQcd"
      },
      "outputs": [],
      "source": [
        "import numpy as np"
      ]
    },
    {
      "cell_type": "code",
      "source": [
        "# 넘파이, 판다스 정도만 () 안씁니다.. shape.. ndim.. <- property\n",
        "l1 = [1,2,3]\n",
        "array1 = np.array(l1)\n",
        "print('array1의 type:', type(array1))\n",
        "print('array1의 shape:', array1.shape)\n",
        "print('array1의 차원은 {0}차원 입니다'.format(array1.ndim))"
      ],
      "metadata": {
        "colab": {
          "base_uri": "https://localhost:8080/"
        },
        "id": "_lIBv6TD764N",
        "outputId": "1163ef13-ef8f-4159-f138-d9ef32a71b77"
      },
      "execution_count": null,
      "outputs": [
        {
          "output_type": "stream",
          "name": "stdout",
          "text": [
            "array1의 type: <class 'numpy.ndarray'>\n",
            "array1의 shape: (3,)\n",
            "array1의 차원은 1차원 입니다\n"
          ]
        }
      ]
    },
    {
      "cell_type": "code",
      "source": [
        "l2 = [[1,3,5],\n",
        "      [2,4,6]]\n",
        "array2 = np.array(l2)\n",
        "print('array2의 type:', type(array2))\n",
        "print('array2의 shape:', array2.shape)\n",
        "print('array2의 차원은 {0}차원 입니다'.format(array2.ndim))"
      ],
      "metadata": {
        "colab": {
          "base_uri": "https://localhost:8080/"
        },
        "id": "AumlD_rI-ih-",
        "outputId": "688a810a-4564-489d-a200-a9eee68286dc"
      },
      "execution_count": null,
      "outputs": [
        {
          "output_type": "stream",
          "name": "stdout",
          "text": [
            "array2의 type: <class 'numpy.ndarray'>\n",
            "array2의 shape: (2, 3)\n",
            "array2의 차원은 2차원 입니다\n"
          ]
        }
      ]
    },
    {
      "cell_type": "code",
      "source": [
        "# (1, 4, 1) 해당하는 shape을 만들어보세요.\n",
        "l4 = [ [[1], [2], [3], [4] ] ]\n",
        "my_array = np.array(l4)\n",
        "print(my_array.shape)"
      ],
      "metadata": {
        "colab": {
          "base_uri": "https://localhost:8080/"
        },
        "id": "bKAk62cz-zhF",
        "outputId": "737cbaa0-5437-4c12-c370-c4674e85d254"
      },
      "execution_count": null,
      "outputs": [
        {
          "output_type": "stream",
          "name": "stdout",
          "text": [
            "(1, 4, 1)\n"
          ]
        }
      ]
    },
    {
      "cell_type": "markdown",
      "source": [
        "### ndarray를 편리하게 생성"
      ],
      "metadata": {
        "id": "kPpIL0DrDJTE"
      }
    },
    {
      "cell_type": "code",
      "source": [
        "### arange 함수\n",
        "sq_array = np.arange(1, 11)\n",
        "print(sq_array)\n",
        "print(sq_array.dtype, sq_array.shape)\n",
        "print()\n",
        "\n",
        "### zeros 함수\n",
        "z_array = np.zeros((3,2), dtype='int64')\n",
        "print(z_array)\n",
        "print(z_array.dtype, z_array.shape)\n",
        "print()\n",
        "\n",
        "### ones 함수\n",
        "o_array = np.ones((2,3), dtype='int64')\n",
        "print(o_array)\n",
        "print(o_array.dtype, o_array.shape)\n",
        "print()\n",
        "\n",
        "### reshape\n",
        "array_1d = np.arange(1, 11)\n",
        "array_2d = array_1d.reshape(2, 5) # 사이즈 안맞으면 에러 # array_1d.reshape(-1, 5) 가능\n",
        "array_3d = np.arange(1,9).reshape(2,2,2)\n",
        "array_2d"
      ],
      "metadata": {
        "colab": {
          "base_uri": "https://localhost:8080/"
        },
        "id": "YQ8mpD8DDN08",
        "outputId": "e00cc121-9a43-463e-8548-02321c4f1ae4"
      },
      "execution_count": null,
      "outputs": [
        {
          "output_type": "stream",
          "name": "stdout",
          "text": [
            "[ 1  2  3  4  5  6  7  8  9 10]\n",
            "int64 (10,)\n",
            "\n",
            "[[0 0]\n",
            " [0 0]\n",
            " [0 0]]\n",
            "int64 (3, 2)\n",
            "\n",
            "[[1 1 1]\n",
            " [1 1 1]]\n",
            "int64 (2, 3)\n",
            "\n"
          ]
        },
        {
          "output_type": "execute_result",
          "data": {
            "text/plain": [
              "array([[ 1,  2,  3,  4,  5],\n",
              "       [ 6,  7,  8,  9, 10]])"
            ]
          },
          "metadata": {},
          "execution_count": 30
        }
      ]
    },
    {
      "cell_type": "markdown",
      "source": [
        "### 인덱싱 및 슬라이싱"
      ],
      "metadata": {
        "id": "Me33dTNpHO5t"
      }
    },
    {
      "cell_type": "markdown",
      "source": [
        "1. 특정 데이터 추출\n",
        "2. 슬라이싱(Slicing)\n",
        "3. 팬시 인덱싱(Fancy Idx)\n",
        "4. 불리언 인덱싱(Boolean Idx)"
      ],
      "metadata": {
        "id": "9HNFPpZNLZuX"
      }
    },
    {
      "cell_type": "code",
      "source": [
        "array1 = np.arange(start=1, stop=10)\n",
        "print('value:', array1[2])\n",
        "print('value의 타입:', type(array1[2]))"
      ],
      "metadata": {
        "colab": {
          "base_uri": "https://localhost:8080/"
        },
        "id": "_WaQ3BRQHPQU",
        "outputId": "c7be3a26-68e4-45ce-f489-a1d34f04317e"
      },
      "execution_count": null,
      "outputs": [
        {
          "output_type": "stream",
          "name": "stdout",
          "text": [
            "value: 3\n",
            "value의 타입: <class 'numpy.int64'>\n"
          ]
        }
      ]
    },
    {
      "cell_type": "code",
      "source": [
        "array2 = array1.copy()\n",
        "array_2d = array2.reshape(3, 3)\n",
        "print('(row=0, col=0) idx 가리키는 값:', array_2d[0,0])\n",
        "print('(row=0, col=1) idx 가리키는 값:', array_2d[0,1])\n",
        "print('(row=1, col=0) idx 가리키는 값:', array_2d[1,0])\n",
        "print('(row=2, col=2) idx 가리키는 값:', array_2d[2,2])"
      ],
      "metadata": {
        "colab": {
          "base_uri": "https://localhost:8080/"
        },
        "id": "4R7l2iEhHPWc",
        "outputId": "362d0123-08c2-452c-dd13-1d6c7fdbdd5e"
      },
      "execution_count": null,
      "outputs": [
        {
          "output_type": "stream",
          "name": "stdout",
          "text": [
            "(row=0, col=0) idx 가리키는 값: 1\n",
            "(row=0, col=1) idx 가리키는 값: 2\n",
            "(row=1, col=0) idx 가리키는 값: 4\n",
            "(row=2, col=2) idx 가리키는 값: 9\n"
          ]
        }
      ]
    },
    {
      "cell_type": "code",
      "source": [
        "array1d = np.arange(start=1, stop=10)\n",
        "array2d = array1d.reshape(3,3)\n",
        "\n",
        "print(array2d)\n",
        "\n",
        "print('array2d:\\n',array2d[0:2,0:2])\n",
        "print('array2d:\\n',array2d[1:3,0:3])\n",
        "print('array2d:\\n',array2d[1:3,:])\n",
        "print('array2d:\\n',array2d[:,:])\n",
        "print('array2d:\\n',array2d[:2,1:])\n",
        "print('array2d:\\n',array2d[:2,0]) # 0: 슬라이싱x, 지칭 -> 결과가 1차원으로 나타남\n",
        "print('array2d:\\n',array2d[:2,0:1])\n",
        "print('array2d:\\n',array2d[0,:2])\n",
        "# [행 슬라이싱, 열 슬라이싱]"
      ],
      "metadata": {
        "colab": {
          "base_uri": "https://localhost:8080/"
        },
        "id": "LMplCbl4HPeM",
        "outputId": "228a64e1-f63f-4e9a-9fb1-adc1dd342c6a"
      },
      "execution_count": null,
      "outputs": [
        {
          "output_type": "stream",
          "name": "stdout",
          "text": [
            "[[1 2 3]\n",
            " [4 5 6]\n",
            " [7 8 9]]\n",
            "array2d:\n",
            " [[1 2]\n",
            " [4 5]]\n",
            "array2d:\n",
            " [[4 5 6]\n",
            " [7 8 9]]\n",
            "array2d:\n",
            " [[4 5 6]\n",
            " [7 8 9]]\n",
            "array2d:\n",
            " [[1 2 3]\n",
            " [4 5 6]\n",
            " [7 8 9]]\n",
            "array2d:\n",
            " [[2 3]\n",
            " [5 6]]\n",
            "array2d:\n",
            " [1 4]\n",
            "array2d:\n",
            " [[1]\n",
            " [4]]\n",
            "array2d:\n",
            " [1 2]\n"
          ]
        }
      ]
    },
    {
      "cell_type": "code",
      "source": [],
      "metadata": {
        "id": "N3pMEzYfOf3O"
      },
      "execution_count": null,
      "outputs": []
    },
    {
      "cell_type": "code",
      "source": [],
      "metadata": {
        "id": "7O4rEvaQOf7V"
      },
      "execution_count": null,
      "outputs": []
    },
    {
      "cell_type": "code",
      "source": [],
      "metadata": {
        "id": "6xDyLBCuOf-W"
      },
      "execution_count": null,
      "outputs": []
    },
    {
      "cell_type": "code",
      "source": [],
      "metadata": {
        "id": "tJDR5qkZOgEM"
      },
      "execution_count": null,
      "outputs": []
    }
  ]
}