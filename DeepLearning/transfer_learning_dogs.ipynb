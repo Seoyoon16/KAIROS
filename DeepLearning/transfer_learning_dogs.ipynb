{
  "cells": [
    {
      "cell_type": "markdown",
      "metadata": {
        "id": "BGWikXtQ-jZb"
      },
      "source": [
        "# 필요한 라이브러리 import"
      ]
    },
    {
      "cell_type": "code",
      "execution_count": null,
      "metadata": {
        "id": "G2WgWRPZCH1p"
      },
      "outputs": [],
      "source": [
        "#import os\n",
        "import numpy as np\n",
        "import tensorflow as tf\n",
        "from tensorflow.keras.preprocessing.image import ImageDataGenerator\n",
        "from tensorflow.keras.applications import ResNet50\n",
        "from tensorflow.keras.applications.resnet50 import preprocess_input\n",
        "from tensorflow.keras.layers import Dense, GlobalAveragePooling2D\n",
        "from tensorflow.keras.models import Model\n",
        "from tensorflow.keras.optimizers import Adam\n"
      ]
    },
    {
      "cell_type": "markdown",
      "metadata": {
        "id": "-uzO47N9CN3L"
      },
      "source": [
        "# Stanford Dogs 데이터셋 다운로드 및 압축 해제"
      ]
    },
    {
      "cell_type": "code",
      "execution_count": null,
      "metadata": {
        "colab": {
          "base_uri": "https://localhost:8080/"
        },
        "id": "Vl15QMLbCNQT",
        "outputId": "b14236bc-6ac6-4c6e-dce6-e46a0672acee"
      },
      "outputs": [
        {
          "output_type": "stream",
          "name": "stdout",
          "text": [
            "--2024-02-06 07:11:10--  http://vision.stanford.edu/aditya86/ImageNetDogs/images.tar\n",
            "Resolving vision.stanford.edu (vision.stanford.edu)... 171.64.68.10\n",
            "Connecting to vision.stanford.edu (vision.stanford.edu)|171.64.68.10|:80... connected.\n",
            "HTTP request sent, awaiting response... 200 OK\n",
            "Length: 793579520 (757M) [application/x-tar]\n",
            "Saving to: ‘images.tar’\n",
            "\n",
            "images.tar          100%[===================>] 756.82M  72.2MB/s    in 11s     \n",
            "\n",
            "2024-02-06 07:11:21 (68.7 MB/s) - ‘images.tar’ saved [793579520/793579520]\n",
            "\n"
          ]
        }
      ],
      "source": [
        "!wget http://vision.stanford.edu/aditya86/ImageNetDogs/images.tar\n",
        "!tar -xf images.tar"
      ]
    },
    {
      "cell_type": "markdown",
      "metadata": {
        "id": "RYWWdmtN-yyb"
      },
      "source": [
        "# 데이터 준비"
      ]
    },
    {
      "cell_type": "markdown",
      "metadata": {
        "id": "TeciOc0Q_ABf"
      },
      "source": [
        "- Stanford Dogs 데이터셋을 학습 및 검증 데이터셋으로 나누어 줍니다.\n",
        "- Keras의 ImageDataGenerator를 사용하여 데이터를 로드하고 전처리합니다.\n"
      ]
    },
    {
      "cell_type": "code",
      "source": [
        "#훈련 데이터 증강\n",
        "\n",
        "train_datagen = ImageDataGenerator(preprocessing_function=preprocess_input,\n",
        "                                   rotation_range=20,\n",
        "                                   width_shift_range=0.2,\n",
        "                                   height_shift_range=0.2,\n",
        "                                   horizontal_flip=True,\n",
        "                                   fill_mode=\"nearest\",\n",
        "                                   validation_split=0.2\n",
        "                                   )"
      ],
      "metadata": {
        "id": "FIDNpVeXqY6o"
      },
      "execution_count": null,
      "outputs": []
    },
    {
      "cell_type": "code",
      "source": [
        "#훈련 데이터 생성\n",
        "train_generator = train_datagen.flow_from_directory(\n",
        "    \"Images\", target_size=(224,224), batch_size=32,\n",
        "    class_mode=\"categorical\",\n",
        "    subset=\"training\"\n",
        ")"
      ],
      "metadata": {
        "colab": {
          "base_uri": "https://localhost:8080/"
        },
        "id": "2OnteGwOqmlH",
        "outputId": "21d6e3ce-aad4-43bd-8cd8-2bfef30d1996"
      },
      "execution_count": null,
      "outputs": [
        {
          "output_type": "stream",
          "name": "stdout",
          "text": [
            "Found 16508 images belonging to 120 classes.\n"
          ]
        }
      ]
    },
    {
      "cell_type": "code",
      "execution_count": null,
      "metadata": {
        "colab": {
          "base_uri": "https://localhost:8080/"
        },
        "id": "W-mjwTtD-47n",
        "outputId": "185fb090-7878-44fc-bd69-ea53edbedda7"
      },
      "outputs": [
        {
          "output_type": "stream",
          "name": "stdout",
          "text": [
            "Found 4072 images belonging to 120 classes.\n"
          ]
        }
      ],
      "source": [
        "#검증 데이터 생성\n",
        "validation_generator = train_datagen.flow_from_directory(\n",
        "    \"Images\", target_size=(224,224), batch_size=32,\n",
        "    class_mode=\"categorical\",\n",
        "    subset=\"validation\"\n",
        ")"
      ]
    },
    {
      "cell_type": "markdown",
      "metadata": {
        "id": "1CY1R77_DD2_"
      },
      "source": [
        "# 모델구성"
      ]
    },
    {
      "cell_type": "code",
      "source": [
        "base_model = ResNet50(weights=\"imagenet\", include_top=False, input_shape=(224,224,3))"
      ],
      "metadata": {
        "colab": {
          "base_uri": "https://localhost:8080/"
        },
        "id": "UbGa_wRnq84n",
        "outputId": "a2abc049-1295-433f-91e9-893c58e2bd70"
      },
      "execution_count": null,
      "outputs": [
        {
          "output_type": "stream",
          "name": "stdout",
          "text": [
            "Downloading data from https://storage.googleapis.com/tensorflow/keras-applications/resnet/resnet50_weights_tf_dim_ordering_tf_kernels_notop.h5\n",
            "94765736/94765736 [==============================] - 1s 0us/step\n"
          ]
        }
      ]
    },
    {
      "cell_type": "code",
      "source": [
        "# 기본 모델의 파라미터를 동결\n",
        "for layer in base_model.layers:\n",
        "  layer.trainable = False"
      ],
      "metadata": {
        "id": "O1iHC8eLrAt6"
      },
      "execution_count": null,
      "outputs": []
    },
    {
      "cell_type": "markdown",
      "source": [],
      "metadata": {
        "id": "qN6jYLQBrrJL"
      }
    },
    {
      "cell_type": "code",
      "source": [
        "# 커스텀 레이어 추가 - 분류기 모델\n",
        "x = base_model.output\n",
        "x = GlobalAveragePooling2D()(x)\n",
        "x = Dense(1024, activation=\"relu\")(x)\n",
        "\n",
        "# 최종 레이어\n",
        "predictions = Dense(train_generator.num_classes, activation=\"softmax\")(x)"
      ],
      "metadata": {
        "id": "6w7idsLerFH8"
      },
      "execution_count": null,
      "outputs": []
    },
    {
      "cell_type": "code",
      "execution_count": null,
      "metadata": {
        "id": "9xOg9mIeDISD"
      },
      "outputs": [],
      "source": [
        "# 새로운 모델 구성\n",
        "model = Model(inputs=base_model.input, outputs=predictions)"
      ]
    },
    {
      "cell_type": "markdown",
      "metadata": {
        "id": "YlH755BIDieD"
      },
      "source": [
        "# 모델 컴파일"
      ]
    },
    {
      "cell_type": "code",
      "execution_count": null,
      "metadata": {
        "colab": {
          "base_uri": "https://localhost:8080/"
        },
        "id": "_2Xi2nFODlzw",
        "outputId": "85e2d30a-b46e-401b-dc95-4f6a8cf54550"
      },
      "outputs": [
        {
          "output_type": "stream",
          "name": "stderr",
          "text": [
            "WARNING:absl:`lr` is deprecated in Keras optimizer, please use `learning_rate` or use the legacy optimizer, e.g.,tf.keras.optimizers.legacy.Adam.\n"
          ]
        }
      ],
      "source": [
        "model.compile(optimizer=Adam(lr=0.0001), loss=\"categorical_crossentropy\", metrics=[\"acc\"])"
      ]
    },
    {
      "cell_type": "markdown",
      "metadata": {
        "id": "tMmcpjavDqWQ"
      },
      "source": [
        "# 모델 학습"
      ]
    },
    {
      "cell_type": "code",
      "execution_count": null,
      "metadata": {
        "colab": {
          "base_uri": "https://localhost:8080/"
        },
        "id": "TtVvzQhJDslZ",
        "outputId": "41818bfa-fe23-4a38-9115-9db707c69bee"
      },
      "outputs": [
        {
          "output_type": "stream",
          "name": "stdout",
          "text": [
            "Epoch 1/10\n",
            "515/515 [==============================] - 233s 438ms/step - loss: 1.5334 - acc: 0.5887\n",
            "Epoch 2/10\n",
            "515/515 [==============================] - 226s 439ms/step - loss: 0.8634 - acc: 0.7380\n",
            "Epoch 3/10\n",
            "515/515 [==============================] - 223s 433ms/step - loss: 0.7279 - acc: 0.7695\n",
            "Epoch 4/10\n",
            "515/515 [==============================] - 222s 432ms/step - loss: 0.6468 - acc: 0.7958\n",
            "Epoch 5/10\n",
            "515/515 [==============================] - 225s 437ms/step - loss: 0.5759 - acc: 0.8146\n",
            "Epoch 6/10\n",
            "515/515 [==============================] - 225s 436ms/step - loss: 0.5277 - acc: 0.8256\n",
            "Epoch 7/10\n",
            "515/515 [==============================] - 222s 431ms/step - loss: 0.4811 - acc: 0.8423\n",
            "Epoch 8/10\n",
            "515/515 [==============================] - 222s 430ms/step - loss: 0.4381 - acc: 0.8560\n",
            "Epoch 9/10\n",
            "515/515 [==============================] - 224s 436ms/step - loss: 0.4064 - acc: 0.8656\n",
            "Epoch 10/10\n",
            "515/515 [==============================] - 223s 433ms/step - loss: 0.3803 - acc: 0.8715\n"
          ]
        }
      ],
      "source": [
        "history = model.fit(\n",
        "    train_generator,\n",
        "    steps_per_epoch=train_generator.samples // train_generator.batch_size,\n",
        "    epochs=10\n",
        ")"
      ]
    },
    {
      "cell_type": "markdown",
      "metadata": {
        "id": "ZC2f8j8hDw7C"
      },
      "source": [
        "# 모델 평가"
      ]
    },
    {
      "cell_type": "code",
      "execution_count": null,
      "metadata": {
        "id": "hM5yT7v4DzB2",
        "colab": {
          "base_uri": "https://localhost:8080/"
        },
        "outputId": "05631bb9-ae28-481c-a0c0-257662143b4b"
      },
      "outputs": [
        {
          "output_type": "stream",
          "name": "stdout",
          "text": [
            "128/128 [==============================] - 57s 434ms/step - loss: 1.2651 - acc: 0.7053\n",
            "Validation loss: 1.2650537490844727, Validation accuracy: 0.7053045034408569\n"
          ]
        }
      ],
      "source": [
        "# 모델 평가\n",
        "eval_result = model.evaluate(validation_generator)\n",
        "\n",
        "print(f'Validation loss: {eval_result[0]}, Validation accuracy: {eval_result[1]}')"
      ]
    }
  ],
  "metadata": {
    "colab": {
      "provenance": [],
      "gpuType": "T4"
    },
    "kernelspec": {
      "display_name": "Python 3",
      "name": "python3"
    },
    "language_info": {
      "name": "python"
    },
    "accelerator": "GPU"
  },
  "nbformat": 4,
  "nbformat_minor": 0
}