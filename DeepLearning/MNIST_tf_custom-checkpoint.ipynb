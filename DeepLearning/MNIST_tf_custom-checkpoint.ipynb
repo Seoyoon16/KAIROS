{
 "cells": [
  {
   "cell_type": "markdown",
   "id": "e0befb85",
   "metadata": {},
   "source": [
    "MNIST 분류"
   ]
  },
  {
   "cell_type": "code",
   "execution_count": 8,
   "id": "39a0a6a1",
   "metadata": {},
   "outputs": [
    {
     "name": "stdout",
     "output_type": "stream",
     "text": [
      "2.15.0\n"
     ]
    }
   ],
   "source": [
    "# 환경 구성\n",
    "# ! pip install tensorflow\n",
    "\n",
    "import tensorflow as tf    # tensorflow의 별칭 tf\n",
    "from tensorflow import keras\n",
    "\n",
    "print(tf.__version__)      # version 앞뒤로 두 개의 밑줄"
   ]
  },
  {
   "cell_type": "code",
   "execution_count": 9,
   "id": "bdd9e95c",
   "metadata": {},
   "outputs": [],
   "source": [
    "import numpy as np\n",
    "import matplotlib.pyplot as plt"
   ]
  },
  {
   "cell_type": "code",
   "execution_count": 10,
   "id": "a4d65487",
   "metadata": {},
   "outputs": [
    {
     "name": "stdout",
     "output_type": "stream",
     "text": [
      "Downloading data from https://storage.googleapis.com/tensorflow/tf-keras-datasets/mnist.npz\n",
      "11490434/11490434 [==============================] - 2s 0us/step\n"
     ]
    }
   ],
   "source": [
    "# MNIST 데이터를 학습용, 테스트 데이터로 구분하여 읽어옴\n",
    "\n",
    "(X_train, y_train), (X_test, y_test) = keras.datasets.mnist.load_data()"
   ]
  },
  {
   "cell_type": "code",
   "execution_count": 11,
   "id": "19ba5e9d",
   "metadata": {},
   "outputs": [
    {
     "name": "stdout",
     "output_type": "stream",
     "text": [
      "X_train.shape = (60000, 28, 28) y_train.shape = (60000,)\n",
      "X_test.shape  = (10000, 28, 28) y_test.shape  = (10000,)\n"
     ]
    }
   ],
   "source": [
    "# 데이터 확인\n",
    "print('X_train.shape =',X_train.shape , 'y_train.shape =',y_train.shape )\n",
    "print('X_test.shape  =',X_test.shape , 'y_test.shape  =',y_test.shape )"
   ]
  },
  {
   "cell_type": "code",
   "execution_count": 12,
   "id": "513c3aef",
   "metadata": {},
   "outputs": [
    {
     "name": "stdout",
     "output_type": "stream",
     "text": [
      "   0    0    0    0    0    0    0    0    0    0    0    0    0    0    0    0    0    0    0    0    0    0    0    0    0    0    0    0 \n",
      "   0    0    0    0    0    0    0    0    0    0    0    0    0    0    0    0    0    0    0    0    0    0    0    0    0    0    0    0 \n",
      "   0    0    0    0    0    0    0    0    0    0    0    0    0    0    0    0    0    0    0    0    0    0    0    0    0    0    0    0 \n",
      "   0    0    0    0    0    0    0    0    0    0    0    0    0    0    0    0    0    0    0    0    0    0    0    0    0    0    0    0 \n",
      "   0    0    0    0    0    0    0    0    0    0    0    0    0    0    0    0    0    0    0    0    0    0    0    0    0    0    0    0 \n",
      "   0    0    0    0    0    0    0    0    0    0    0    0    3   18   18   18  126  136  175   26  166  255  247  127    0    0    0    0 \n",
      "   0    0    0    0    0    0    0    0   30   36   94  154  170  253  253  253  253  253  225  172  253  242  195   64    0    0    0    0 \n",
      "   0    0    0    0    0    0    0   49  238  253  253  253  253  253  253  253  253  251   93   82   82   56   39    0    0    0    0    0 \n",
      "   0    0    0    0    0    0    0   18  219  253  253  253  253  253  198  182  247  241    0    0    0    0    0    0    0    0    0    0 \n",
      "   0    0    0    0    0    0    0    0   80  156  107  253  253  205   11    0   43  154    0    0    0    0    0    0    0    0    0    0 \n",
      "   0    0    0    0    0    0    0    0    0   14    1  154  253   90    0    0    0    0    0    0    0    0    0    0    0    0    0    0 \n",
      "   0    0    0    0    0    0    0    0    0    0    0  139  253  190    2    0    0    0    0    0    0    0    0    0    0    0    0    0 \n",
      "   0    0    0    0    0    0    0    0    0    0    0   11  190  253   70    0    0    0    0    0    0    0    0    0    0    0    0    0 \n",
      "   0    0    0    0    0    0    0    0    0    0    0    0   35  241  225  160  108    1    0    0    0    0    0    0    0    0    0    0 \n",
      "   0    0    0    0    0    0    0    0    0    0    0    0    0   81  240  253  253  119   25    0    0    0    0    0    0    0    0    0 \n",
      "   0    0    0    0    0    0    0    0    0    0    0    0    0    0   45  186  253  253  150   27    0    0    0    0    0    0    0    0 \n",
      "   0    0    0    0    0    0    0    0    0    0    0    0    0    0    0   16   93  252  253  187    0    0    0    0    0    0    0    0 \n",
      "   0    0    0    0    0    0    0    0    0    0    0    0    0    0    0    0    0  249  253  249   64    0    0    0    0    0    0    0 \n",
      "   0    0    0    0    0    0    0    0    0    0    0    0    0    0   46  130  183  253  253  207    2    0    0    0    0    0    0    0 \n",
      "   0    0    0    0    0    0    0    0    0    0    0    0   39  148  229  253  253  253  250  182    0    0    0    0    0    0    0    0 \n",
      "   0    0    0    0    0    0    0    0    0    0   24  114  221  253  253  253  253  201   78    0    0    0    0    0    0    0    0    0 \n",
      "   0    0    0    0    0    0    0    0   23   66  213  253  253  253  253  198   81    2    0    0    0    0    0    0    0    0    0    0 \n",
      "   0    0    0    0    0    0   18  171  219  253  253  253  253  195   80    9    0    0    0    0    0    0    0    0    0    0    0    0 \n",
      "   0    0    0    0   55  172  226  253  253  253  253  244  133   11    0    0    0    0    0    0    0    0    0    0    0    0    0    0 \n",
      "   0    0    0    0  136  253  253  253  212  135  132   16    0    0    0    0    0    0    0    0    0    0    0    0    0    0    0    0 \n",
      "   0    0    0    0    0    0    0    0    0    0    0    0    0    0    0    0    0    0    0    0    0    0    0    0    0    0    0    0 \n",
      "   0    0    0    0    0    0    0    0    0    0    0    0    0    0    0    0    0    0    0    0    0    0    0    0    0    0    0    0 \n",
      "   0    0    0    0    0    0    0    0    0    0    0    0    0    0    0    0    0    0    0    0    0    0    0    0    0    0    0    0 \n"
     ]
    }
   ],
   "source": [
    "num = X_train[0]\n",
    "for i in range(28):\n",
    "    for j in range(28):\n",
    "        print(f'{num[i][j]:4d}',end=' ')\n",
    "    print()"
   ]
  },
  {
   "cell_type": "code",
   "execution_count": 13,
   "id": "5353ad5f",
   "metadata": {},
   "outputs": [
    {
     "name": "stdout",
     "output_type": "stream",
     "text": [
      "5\n"
     ]
    }
   ],
   "source": [
    "print(y_train[0])"
   ]
  },
  {
   "cell_type": "code",
   "execution_count": 14,
   "id": "910c0a50",
   "metadata": {},
   "outputs": [
    {
     "data": {
      "image/png": "[encoded data removed]",
      "text/plain": [
       "<Figure size 640x480 with 5 Axes>"
      ]
     },
     "metadata": {},
     "output_type": "display_data"
    }
   ],
   "source": [
    "# 데이터를 이미지로 확인\n",
    "# matplotlib 로 이미지 읽어오기\n",
    "for i in range(5):\n",
    "    plt.subplot(1, 5, i+1)\n",
    "    plt.imshow(X_train[i], cmap='Greys')\n",
    "    plt.title(y_train[i])"
   ]
  },
  {
   "cell_type": "code",
   "execution_count": 15,
   "id": "311acf89",
   "metadata": {},
   "outputs": [],
   "source": [
    "# 입력값 전처리 : 0에서 1사이의 값으로 입력 데이터를 가공함 - 정규화\n",
    "\n",
    "X_train, X_test = X_train/255, X_test/255"
   ]
  },
  {
   "cell_type": "code",
   "execution_count": 16,
   "id": "1811e961",
   "metadata": {},
   "outputs": [
    {
     "name": "stdout",
     "output_type": "stream",
     "text": [
      "0.0000 0.0000 0.0000 0.0000 0.0000 0.0000 0.0000 0.0000 0.0000 0.0000 0.0000 0.0000 0.0000 0.0000 0.0000 0.0000 0.0000 0.0000 0.0000 0.0000 0.0000 0.0000 0.0000 0.0000 0.0000 0.0000 0.0000 0.0000 \n",
      "0.0000 0.0000 0.0000 0.0000 0.0000 0.0000 0.0000 0.0000 0.0000 0.0000 0.0000 0.0000 0.0000 0.0000 0.0000 0.0000 0.0000 0.0000 0.0000 0.0000 0.0000 0.0000 0.0000 0.0000 0.0000 0.0000 0.0000 0.0000 \n",
      "0.0000 0.0000 0.0000 0.0000 0.0000 0.0000 0.0000 0.0000 0.0000 0.0000 0.0000 0.0000 0.0000 0.0000 0.0000 0.0000 0.0000 0.0000 0.0000 0.0000 0.0000 0.0000 0.0000 0.0000 0.0000 0.0000 0.0000 0.0000 \n",
      "0.0000 0.0000 0.0000 0.0000 0.0000 0.0000 0.0000 0.0000 0.0000 0.0000 0.0000 0.0000 0.0000 0.0000 0.0000 0.0000 0.0000 0.0000 0.0000 0.0000 0.0000 0.0000 0.0000 0.0000 0.0000 0.0000 0.0000 0.0000 \n",
      "0.0000 0.0000 0.0000 0.0000 0.0000 0.0000 0.0000 0.0000 0.0000 0.0000 0.0000 0.0000 0.0000 0.0000 0.0000 0.0000 0.0000 0.0000 0.0000 0.0000 0.0000 0.0000 0.0000 0.0000 0.0000 0.0000 0.0000 0.0000 \n",
      "0.0000 0.0000 0.0000 0.0000 0.0000 0.0000 0.0000 0.0000 0.0000 0.0000 0.0000 0.0000 0.0118 0.0706 0.0706 0.0706 0.4941 0.5333 0.6863 0.1020 0.6510 1.0000 0.9686 0.4980 0.0000 0.0000 0.0000 0.0000 \n",
      "0.0000 0.0000 0.0000 0.0000 0.0000 0.0000 0.0000 0.0000 0.1176 0.1412 0.3686 0.6039 0.6667 0.9922 0.9922 0.9922 0.9922 0.9922 0.8824 0.6745 0.9922 0.9490 0.7647 0.2510 0.0000 0.0000 0.0000 0.0000 \n",
      "0.0000 0.0000 0.0000 0.0000 0.0000 0.0000 0.0000 0.1922 0.9333 0.9922 0.9922 0.9922 0.9922 0.9922 0.9922 0.9922 0.9922 0.9843 0.3647 0.3216 0.3216 0.2196 0.1529 0.0000 0.0000 0.0000 0.0000 0.0000 \n",
      "0.0000 0.0000 0.0000 0.0000 0.0000 0.0000 0.0000 0.0706 0.8588 0.9922 0.9922 0.9922 0.9922 0.9922 0.7765 0.7137 0.9686 0.9451 0.0000 0.0000 0.0000 0.0000 0.0000 0.0000 0.0000 0.0000 0.0000 0.0000 \n",
      "0.0000 0.0000 0.0000 0.0000 0.0000 0.0000 0.0000 0.0000 0.3137 0.6118 0.4196 0.9922 0.9922 0.8039 0.0431 0.0000 0.1686 0.6039 0.0000 0.0000 0.0000 0.0000 0.0000 0.0000 0.0000 0.0000 0.0000 0.0000 \n",
      "0.0000 0.0000 0.0000 0.0000 0.0000 0.0000 0.0000 0.0000 0.0000 0.0549 0.0039 0.6039 0.9922 0.3529 0.0000 0.0000 0.0000 0.0000 0.0000 0.0000 0.0000 0.0000 0.0000 0.0000 0.0000 0.0000 0.0000 0.0000 \n",
      "0.0000 0.0000 0.0000 0.0000 0.0000 0.0000 0.0000 0.0000 0.0000 0.0000 0.0000 0.5451 0.9922 0.7451 0.0078 0.0000 0.0000 0.0000 0.0000 0.0000 0.0000 0.0000 0.0000 0.0000 0.0000 0.0000 0.0000 0.0000 \n",
      "0.0000 0.0000 0.0000 0.0000 0.0000 0.0000 0.0000 0.0000 0.0000 0.0000 0.0000 0.0431 0.7451 0.9922 0.2745 0.0000 0.0000 0.0000 0.0000 0.0000 0.0000 0.0000 0.0000 0.0000 0.0000 0.0000 0.0000 0.0000 \n",
      "0.0000 0.0000 0.0000 0.0000 0.0000 0.0000 0.0000 0.0000 0.0000 0.0000 0.0000 0.0000 0.1373 0.9451 0.8824 0.6275 0.4235 0.0039 0.0000 0.0000 0.0000 0.0000 0.0000 0.0000 0.0000 0.0000 0.0000 0.0000 \n",
      "0.0000 0.0000 0.0000 0.0000 0.0000 0.0000 0.0000 0.0000 0.0000 0.0000 0.0000 0.0000 0.0000 0.3176 0.9412 0.9922 0.9922 0.4667 0.0980 0.0000 0.0000 0.0000 0.0000 0.0000 0.0000 0.0000 0.0000 0.0000 \n",
      "0.0000 0.0000 0.0000 0.0000 0.0000 0.0000 0.0000 0.0000 0.0000 0.0000 0.0000 0.0000 0.0000 0.0000 0.1765 0.7294 0.9922 0.9922 0.5882 0.1059 0.0000 0.0000 0.0000 0.0000 0.0000 0.0000 0.0000 0.0000 \n",
      "0.0000 0.0000 0.0000 0.0000 0.0000 0.0000 0.0000 0.0000 0.0000 0.0000 0.0000 0.0000 0.0000 0.0000 0.0000 0.0627 0.3647 0.9882 0.9922 0.7333 0.0000 0.0000 0.0000 0.0000 0.0000 0.0000 0.0000 0.0000 \n",
      "0.0000 0.0000 0.0000 0.0000 0.0000 0.0000 0.0000 0.0000 0.0000 0.0000 0.0000 0.0000 0.0000 0.0000 0.0000 0.0000 0.0000 0.9765 0.9922 0.9765 0.2510 0.0000 0.0000 0.0000 0.0000 0.0000 0.0000 0.0000 \n",
      "0.0000 0.0000 0.0000 0.0000 0.0000 0.0000 0.0000 0.0000 0.0000 0.0000 0.0000 0.0000 0.0000 0.0000 0.1804 0.5098 0.7176 0.9922 0.9922 0.8118 0.0078 0.0000 0.0000 0.0000 0.0000 0.0000 0.0000 0.0000 \n",
      "0.0000 0.0000 0.0000 0.0000 0.0000 0.0000 0.0000 0.0000 0.0000 0.0000 0.0000 0.0000 0.1529 0.5804 0.8980 0.9922 0.9922 0.9922 0.9804 0.7137 0.0000 0.0000 0.0000 0.0000 0.0000 0.0000 0.0000 0.0000 \n",
      "0.0000 0.0000 0.0000 0.0000 0.0000 0.0000 0.0000 0.0000 0.0000 0.0000 0.0941 0.4471 0.8667 0.9922 0.9922 0.9922 0.9922 0.7882 0.3059 0.0000 0.0000 0.0000 0.0000 0.0000 0.0000 0.0000 0.0000 0.0000 \n",
      "0.0000 0.0000 0.0000 0.0000 0.0000 0.0000 0.0000 0.0000 0.0902 0.2588 0.8353 0.9922 0.9922 0.9922 0.9922 0.7765 0.3176 0.0078 0.0000 0.0000 0.0000 0.0000 0.0000 0.0000 0.0000 0.0000 0.0000 0.0000 \n",
      "0.0000 0.0000 0.0000 0.0000 0.0000 0.0000 0.0706 0.6706 0.8588 0.9922 0.9922 0.9922 0.9922 0.7647 0.3137 0.0353 0.0000 0.0000 0.0000 0.0000 0.0000 0.0000 0.0000 0.0000 0.0000 0.0000 0.0000 0.0000 \n",
      "0.0000 0.0000 0.0000 0.0000 0.2157 0.6745 0.8863 0.9922 0.9922 0.9922 0.9922 0.9569 0.5216 0.0431 0.0000 0.0000 0.0000 0.0000 0.0000 0.0000 0.0000 0.0000 0.0000 0.0000 0.0000 0.0000 0.0000 0.0000 \n",
      "0.0000 0.0000 0.0000 0.0000 0.5333 0.9922 0.9922 0.9922 0.8314 0.5294 0.5176 0.0627 0.0000 0.0000 0.0000 0.0000 0.0000 0.0000 0.0000 0.0000 0.0000 0.0000 0.0000 0.0000 0.0000 0.0000 0.0000 0.0000 \n",
      "0.0000 0.0000 0.0000 0.0000 0.0000 0.0000 0.0000 0.0000 0.0000 0.0000 0.0000 0.0000 0.0000 0.0000 0.0000 0.0000 0.0000 0.0000 0.0000 0.0000 0.0000 0.0000 0.0000 0.0000 0.0000 0.0000 0.0000 0.0000 \n",
      "0.0000 0.0000 0.0000 0.0000 0.0000 0.0000 0.0000 0.0000 0.0000 0.0000 0.0000 0.0000 0.0000 0.0000 0.0000 0.0000 0.0000 0.0000 0.0000 0.0000 0.0000 0.0000 0.0000 0.0000 0.0000 0.0000 0.0000 0.0000 \n",
      "0.0000 0.0000 0.0000 0.0000 0.0000 0.0000 0.0000 0.0000 0.0000 0.0000 0.0000 0.0000 0.0000 0.0000 0.0000 0.0000 0.0000 0.0000 0.0000 0.0000 0.0000 0.0000 0.0000 0.0000 0.0000 0.0000 0.0000 0.0000 \n"
     ]
    }
   ],
   "source": [
    "num = X_train[0]\n",
    "for i in range(28):\n",
    "    for j in range(28):\n",
    "        print(f'{num[i][j]:.4f}',end=' ')\n",
    "    print()"
   ]
  },
  {
   "cell_type": "raw",
   "id": "ec646b0e",
   "metadata": {},
   "source": [
    "심층 신경망 모델 구축\n",
    "keras.Sequential() 클래스는 입력층, 은닉층, 출력층이 존재하는 순차적 연결 구조를 가지는 신경망 모델을 생성 \n",
    "순차적 심층 신경망은 입력값으로 2차원 배열을 사용할 수 없기 때문에 이를 Flatten() 클래스를 사용하여 1차원 객체로 만듦 \n",
    "Dense() 는 완전 연결 레이어(fully connected layer) 또는 밀집 레이어(dense layer)라고 하고 각 뉴런은 이전 레이어의 모든 뉴런과 연결된 신경망에서 가장 기본적이고 널리 사용되는 레이어 중 하나, 매개변수는 출력층의 갯수\n",
    "신경망을 각 노드에 대한 예측값을 임의의 실수로 반환하는데 이 값들을 0에서 1 사이의 확률값으로 만들어 주는 것이 소프트맥스 함수\n",
    "생성된 신경망은 경사하강법을 이용하여 오차를 줄이는 방향으로 햑습을 진행하며, 오차 역전파를 이용하여 가장 좋은 가중치와 편향값을 찾아 나간다"
   ]
  },
  {
   "cell_type": "code",
   "execution_count": 17,
   "id": "2833b606",
   "metadata": {},
   "outputs": [
    {
     "name": "stdout",
     "output_type": "stream",
     "text": [
      "WARNING:tensorflow:From D:\\Anaconda\\lib\\site-packages\\keras\\src\\backend.py:873: The name tf.get_default_graph is deprecated. Please use tf.compat.v1.get_default_graph instead.\n",
      "\n",
      "Model: \"sequential\"\n",
      "_________________________________________________________________\n",
      " Layer (type)                Output Shape              Param #   \n",
      "=================================================================\n",
      " flatten (Flatten)           (None, 784)               0         \n",
      "                                                                 \n",
      " dense (Dense)               (None, 256)               200960    \n",
      "                                                                 \n",
      " dense_1 (Dense)             (None, 10)                2570      \n",
      "                                                                 \n",
      "=================================================================\n",
      "Total params: 203530 (795.04 KB)\n",
      "Trainable params: 203530 (795.04 KB)\n",
      "Non-trainable params: 0 (0.00 Byte)\n",
      "_________________________________________________________________\n"
     ]
    }
   ],
   "source": [
    "# 모델 구성\n",
    "model = keras.Sequential([\n",
    "    keras.layers.Flatten(input_shape=(28,28)),\n",
    "    keras.layers.Dense(256, activation='relu'),\n",
    "    keras.layers.Dense(10, activation=\"softmax\")\n",
    "])\n",
    "\n",
    "# 모델 요약\n",
    "model.summary()"
   ]
  },
  {
   "cell_type": "code",
   "execution_count": 18,
   "id": "d4ed8926",
   "metadata": {},
   "outputs": [
    {
     "name": "stdout",
     "output_type": "stream",
     "text": [
      "WARNING:tensorflow:From D:\\Anaconda\\lib\\site-packages\\keras\\src\\optimizers\\__init__.py:309: The name tf.train.Optimizer is deprecated. Please use tf.compat.v1.train.Optimizer instead.\n",
      "\n"
     ]
    }
   ],
   "source": [
    "# 학습 과정 설정\n",
    "model.compile(optimizer='adam',loss='sparse_categorical_crossentropy', metrics=['acc'])"
   ]
  },
  {
   "cell_type": "raw",
   "id": "8a325726",
   "metadata": {},
   "source": [
    "신경망학습은 추측을 한 뒤 정답과 비교하여 오차가 얼마인지 확인한 후 오차를 줄이는 방법으로 연결강도를 조절, 이때 오차를 측정하는 방법, 오차를 줄여 최적화 하는 법, 평가지표를 정해야 함\n",
    "옵티마이저(optimizer) : 모델을 개선하여 오차를 줄여 최적화하는 것. SGD, adam 등\n",
    "손실함수(loss) : 오차측정\n",
    "    - 분류: sparse_categorical_crossentropy : 다중분류 손실함수. int타입 클래스에 사       용 (int가 아닌 경우 categorical_crossentropy 사용)\n",
    "    - 회귀: mse, mas\n",
    "평가지표 (metric): 훈련을 모니터링 하기 위해 사용, 분류에서는 accuracy, 회귀에서는 mse, rmse, r2, mae, mspe, mape, msle"
   ]
  },
  {
   "cell_type": "raw",
   "id": "90f381e7",
   "metadata": {},
   "source": [
    "손실함수\n",
    "- binary_crossentropy (이항 교차 엔트로피) : y값이 (ex. 0,1) 인 이진 분류기를 훈련할 때 자주 사용되는 손실 함수 (multi-label classification).\n",
    "활성화 함수 sigmoid 사용 (출력값이 0과 1사이의 값). 수식 아래 함수에 예측값(Yi) 과 실제값(ti) 에 1을 대입하면, 수식은 0에 수렴하게 됨. 아래 함수에 예측값(Yi =0)과 실제값(ti = 1)을 대입한다면, 수식은 양의 무한대가 됨 따라서 이진 분류에 적합\n",
    "\n",
    "- categorical_crossentropy (범주형 교차 엔트로피) : 출력을 클래스 소속 확률에 대한 예측으로 이해할 수 있는 문제에서 사용 (즉, 레이블 (y) 클래스가 2개 이상일 경우 사용 즉, 멀티클래스 분류에 사용됨).\n",
    "활성화 함수 softmax (모든 벡터 요소의 값은 0과 1사이의 값이 나오고, 모든 합이 1이 됨). 라벨이 (0,0,1,0,0) , (0,1,0,0,0) 과 같이 one-hot encoding 된 형태로 제공될 때 사용 가능. 수식 아래 수식에서 C 는 클래스의 개수 실제값과 예측값이 모두 동일하게 될 경우 손실함수의 값은 0이 나옴. 실제값과 예측값이 다를 경우 수식에 대입하면 양의 무한대로 발산\n",
    "\n",
    "- sparse_categorical_crossentropy tf.keras.losses.sparse_categorical_crossentropy(y_true, y_pred, from_logits=False, axis=-1) : 범주형 교차 엔트로피와 동일하게 멀티 클래스 분류에 사용. one-hot encoding 된 상태일 필요 없이 정수 인코딩 된 상태에서 수행 가능. 라벨이 (1,2,3,4) 이런식으로 정수형태일때 사용\n",
    "\n",
    "- 평균 제곱 오차 손실 (means squared error, MSE) : 신경망의 출력(^y)과 타겟(y)이 연속값인 회귀 문제에서 널리 사용하는 손실함수. 회귀문제에 사용될 수 있는 다른 손실 함수 평균 절댓값 오차 (Mean absolute error, MAE) 평균 제곱근 오차 (Root mean squared error, RMSE) 예측과 타겟값의 차이를 제곱하여 평균한 값 (모두 실숫값으로 계산) MSE가 크다는 것은 평균 사이에 차이가 크다는 뜻 / MSE가 작다는 것은 데이터와 평균사이의 차이가 작다는 뜻. 즉, MSE는 데이터가 평균으로부터 얼마나 떨어져있나를 보여주는 손실함수. 연속형 데이터를 사용할 때 주로 사용 (주식 가격 예측 등)"
   ]
  },
  {
   "cell_type": "code",
   "execution_count": 20,
   "id": "52a30bcb",
   "metadata": {},
   "outputs": [
    {
     "name": "stdout",
     "output_type": "stream",
     "text": [
      "Epoch 1/5\n",
      "WARNING:tensorflow:From D:\\Anaconda\\lib\\site-packages\\keras\\src\\utils\\tf_utils.py:492: The name tf.ragged.RaggedTensorValue is deprecated. Please use tf.compat.v1.ragged.RaggedTensorValue instead.\n",
      "\n",
      "WARNING:tensorflow:From D:\\Anaconda\\lib\\site-packages\\keras\\src\\engine\\base_layer_utils.py:384: The name tf.executing_eagerly_outside_functions is deprecated. Please use tf.compat.v1.executing_eagerly_outside_functions instead.\n",
      "\n",
      "1875/1875 [==============================] - 3s 1ms/step - loss: 0.2302 - acc: 0.9336\n",
      "Epoch 2/5\n",
      "1875/1875 [==============================] - 3s 2ms/step - loss: 0.0955 - acc: 0.9721\n",
      "Epoch 3/5\n",
      "1875/1875 [==============================] - 3s 2ms/step - loss: 0.0625 - acc: 0.9811\n",
      "Epoch 4/5\n",
      "1875/1875 [==============================] - 3s 2ms/step - loss: 0.0460 - acc: 0.9853\n",
      "Epoch 5/5\n",
      "1875/1875 [==============================] - 3s 2ms/step - loss: 0.0326 - acc: 0.9900\n"
     ]
    }
   ],
   "source": [
    "# 모델 학습\n",
    "# batch_size를 입력하지 않으면 기본값은 32이다. 60000/32=1875\n",
    "\n",
    "history = model.fit(X_train, y_train, epochs=5)"
   ]
  },
  {
   "cell_type": "code",
   "execution_count": 21,
   "id": "e98e2c9d",
   "metadata": {},
   "outputs": [
    {
     "name": "stdout",
     "output_type": "stream",
     "text": [
      "313/313 - 0s - loss: 0.0686 - acc: 0.9787 - 381ms/epoch - 1ms/step\n",
      "\n",
      "테스트 정확도: 0.9786999821662903\n"
     ]
    }
   ],
   "source": [
    "# 모델 평가\n",
    "test_loss, test_acc = model.evaluate(X_test, y_test, verbose=2)\n",
    "print('\\n테스트 정확도:', test_acc)"
   ]
  },
  {
   "cell_type": "raw",
   "id": "bbd0bc14",
   "metadata": {},
   "source": [
    "신경망의 학습 데이터는 동일하지만 학습 때 사용되는 모델의 초기 가중치는 매번 랜덤하게 결정되므로 동일한 모델을 만들더라도 매번 정확도 값이 다르게 나타날 수 있음"
   ]
  },
  {
   "cell_type": "code",
   "execution_count": 22,
   "id": "cd5e1b8b",
   "metadata": {},
   "outputs": [
    {
     "name": "stdout",
     "output_type": "stream",
     "text": [
      "dict_keys(['loss', 'acc'])\n",
      "dict_items([('loss', [0.23016232252120972, 0.0955401137471199, 0.06251785159111023, 0.046014755964279175, 0.032555997371673584]), ('acc', [0.9335500001907349, 0.972083330154419, 0.9811499714851379, 0.9852833151817322, 0.9900000095367432])])\n"
     ]
    }
   ],
   "source": [
    "# 시각화\n",
    "print(history.history.keys())\n",
    "print(history.history.items())"
   ]
  },
  {
   "cell_type": "code",
   "execution_count": 24,
   "id": "189559f8",
   "metadata": {},
   "outputs": [
    {
     "data": {
      "image/png": "[encoded data removed]",
      "text/plain": [
       "<Figure size 500x500 with 1 Axes>"
      ]
     },
     "metadata": {},
     "output_type": "display_data"
    }
   ],
   "source": [
    "import matplotlib.pyplot as plt\n",
    "\n",
    "def draw_acc_loss(his_dict):\n",
    "    loss = his_dict['loss'] # y값\n",
    "    epochs = range(1,len(loss)+1) #x값\n",
    "    plt.figure(figsize=(5,5))\n",
    "\n",
    "    plt.plot(epochs,his_dict['acc'] , color='red', label='train_acc')\n",
    "    plt.plot(epochs,his_dict['loss'] , color='blue', label='train_loss')\n",
    "    plt.title(\"train loss / accuracy\")\n",
    "    plt.xlabel('epoches')\n",
    "    plt.ylabel('loss/acc')\n",
    "    plt.legend()\n",
    "    plt.show()\n",
    "\n",
    "draw_acc_loss(history.history)"
   ]
  },
  {
   "cell_type": "raw",
   "id": "c7693916",
   "metadata": {},
   "source": [
    "인공 신경망 성능 개선\n",
    "- 더 많은 데이터 사용\n",
    "- 모델 변경 (학습을 위한 은닉층을 더 깊게 만들기, 노드의 개수 늘리기)\n",
    "- 하이퍼파라미터(epoch, batch_size 등) 튜닝"
   ]
  },
  {
   "cell_type": "markdown",
   "id": "45e0cb9c",
   "metadata": {},
   "source": []
  },
  {
   "cell_type": "code",
   "execution_count": 25,
   "id": "709b2f0d",
   "metadata": {},
   "outputs": [],
   "source": [
    "# 은닉층 추가1\n",
    "#    keras.layers.Dense(128, activation='relu'),\n",
    "#    keras.layers.Dense(64, activation='relu'),\n",
    "#    2의 배수\n",
    "\n",
    "model_3 = keras.Sequential([\n",
    "    keras.layers.Flatten(input_shape=(28,28)),\n",
    "    keras.layers.Dense(256, activation=\"relu\"),\n",
    "    keras.layers.Dense(128, activation=\"relu\"),\n",
    "    keras.layers.Dense(64, activation=\"relu\"),\n",
    "    keras.layers.Dense(10, activation=\"softmax\")\n",
    "])"
   ]
  },
  {
   "cell_type": "code",
   "execution_count": 26,
   "id": "d8bf8262",
   "metadata": {},
   "outputs": [
    {
     "name": "stdout",
     "output_type": "stream",
     "text": [
      "Model: \"sequential_1\"\n",
      "_________________________________________________________________\n",
      " Layer (type)                Output Shape              Param #   \n",
      "=================================================================\n",
      " flatten_1 (Flatten)         (None, 784)               0         \n",
      "                                                                 \n",
      " dense_2 (Dense)             (None, 256)               200960    \n",
      "                                                                 \n",
      " dense_3 (Dense)             (None, 128)               32896     \n",
      "                                                                 \n",
      " dense_4 (Dense)             (None, 64)                8256      \n",
      "                                                                 \n",
      " dense_5 (Dense)             (None, 10)                650       \n",
      "                                                                 \n",
      "=================================================================\n",
      "Total params: 242762 (948.29 KB)\n",
      "Trainable params: 242762 (948.29 KB)\n",
      "Non-trainable params: 0 (0.00 Byte)\n",
      "_________________________________________________________________\n"
     ]
    }
   ],
   "source": [
    "# 모델 요약하기\n",
    "model_3.summary()"
   ]
  },
  {
   "cell_type": "code",
   "execution_count": 27,
   "id": "177ecebc",
   "metadata": {},
   "outputs": [
    {
     "name": "stdout",
     "output_type": "stream",
     "text": [
      "Epoch 1/5\n",
      "1875/1875 [==============================] - 4s 2ms/step - loss: 0.2127 - acc: 0.9365\n",
      "Epoch 2/5\n",
      "1875/1875 [==============================] - 4s 2ms/step - loss: 0.0918 - acc: 0.9718\n",
      "Epoch 3/5\n",
      "1875/1875 [==============================] - 3s 2ms/step - loss: 0.0657 - acc: 0.9790\n",
      "Epoch 4/5\n",
      "1875/1875 [==============================] - 3s 2ms/step - loss: 0.0520 - acc: 0.9833\n",
      "Epoch 5/5\n",
      "1875/1875 [==============================] - 3s 2ms/step - loss: 0.0399 - acc: 0.9870\n",
      "313/313 - 0s - loss: 0.0764 - acc: 0.9782 - 385ms/epoch - 1ms/step\n",
      "\n",
      "테스트 정확도: 0.9782000184059143\n"
     ]
    }
   ],
   "source": [
    "#모델 설정\n",
    "model_3.compile(optimizer=\"adam\",loss='sparse_categorical_crossentropy', metrics=['acc'])\n",
    "\n",
    "#모델 학습\n",
    "history_3 = model_3.fit(X_train, y_train, epochs=5)\n",
    "\n",
    "#모델 평가\n",
    "test_loss_3, test_acc_3 = model_3.evaluate(X_test, y_test, verbose=2)\n",
    "print('\\n테스트 정확도:', test_acc_3)"
   ]
  },
  {
   "cell_type": "code",
   "execution_count": 28,
   "id": "f25b5a94",
   "metadata": {},
   "outputs": [
    {
     "name": "stdout",
     "output_type": "stream",
     "text": [
      "Model: \"sequential_2\"\n",
      "_________________________________________________________________\n",
      " Layer (type)                Output Shape              Param #   \n",
      "=================================================================\n",
      " flatten_2 (Flatten)         (None, 784)               0         \n",
      "                                                                 \n",
      " dense_6 (Dense)             (None, 512)               401920    \n",
      "                                                                 \n",
      " dense_7 (Dense)             (None, 256)               131328    \n",
      "                                                                 \n",
      " dense_8 (Dense)             (None, 128)               32896     \n",
      "                                                                 \n",
      " dense_9 (Dense)             (None, 64)                8256      \n",
      "                                                                 \n",
      " dense_10 (Dense)            (None, 32)                2080      \n",
      "                                                                 \n",
      " dense_11 (Dense)            (None, 10)                330       \n",
      "                                                                 \n",
      "=================================================================\n",
      "Total params: 576810 (2.20 MB)\n",
      "Trainable params: 576810 (2.20 MB)\n",
      "Non-trainable params: 0 (0.00 Byte)\n",
      "_________________________________________________________________\n"
     ]
    }
   ],
   "source": [
    "# 은닉층 추가2\n",
    "#    keras.layers.Dense(1256, activation='relu'),\n",
    "#    keras.layers.Dense(512, activation='relu'),\n",
    "\n",
    "model_5 = keras.Sequential([\n",
    "    keras.layers.Flatten(input_shape=(28,28)),\n",
    "    keras.layers.Dense(512, activation=\"relu\"),\n",
    "    keras.layers.Dense(256, activation=\"relu\"),\n",
    "    keras.layers.Dense(128, activation=\"relu\"),\n",
    "    keras.layers.Dense(64, activation=\"relu\"),\n",
    "    keras.layers.Dense(32, activation=\"relu\"),\n",
    "    keras.layers.Dense(10, activation=\"softmax\")\n",
    "])\n",
    "\n",
    "model_5.summary()"
   ]
  },
  {
   "cell_type": "code",
   "execution_count": 29,
   "id": "62351eb4",
   "metadata": {},
   "outputs": [
    {
     "name": "stdout",
     "output_type": "stream",
     "text": [
      "Epoch 1/5\n",
      "1875/1875 [==============================] - 7s 3ms/step - loss: 0.2214 - acc: 0.9337\n",
      "Epoch 2/5\n",
      "1875/1875 [==============================] - 6s 3ms/step - loss: 0.1009 - acc: 0.9702\n",
      "Epoch 3/5\n",
      "1875/1875 [==============================] - 6s 3ms/step - loss: 0.0720 - acc: 0.9781\n",
      "Epoch 4/5\n",
      "1875/1875 [==============================] - 6s 3ms/step - loss: 0.0564 - acc: 0.9834\n",
      "Epoch 5/5\n",
      "1875/1875 [==============================] - 6s 3ms/step - loss: 0.0449 - acc: 0.9866\n",
      "313/313 - 0s - loss: 0.0757 - acc: 0.9799 - 454ms/epoch - 1ms/step\n",
      "\n",
      "테스트 정확도: 0.9799000024795532\n"
     ]
    }
   ],
   "source": [
    "#모델 설정\n",
    "model_5.compile(optimizer=\"adam\",loss='sparse_categorical_crossentropy', metrics=['acc'])\n",
    "\n",
    "#모델 학습\n",
    "history_5 = model_5.fit(X_train, y_train, epochs=5)\n",
    "\n",
    "#모델 평가\n",
    "test_loss_5, test_acc_5 = model_5.evaluate(X_test, y_test, verbose=2)\n",
    "print('\\n테스트 정확도:', test_acc_5)"
   ]
  },
  {
   "cell_type": "raw",
   "id": "6fefe739",
   "metadata": {},
   "source": [
    "+) 각 layer의 노드의 수 조절\n",
    "   epochs, batch_size, optimizer 등의 하이퍼파라미터 조절"
   ]
  },
  {
   "cell_type": "code",
   "execution_count": 30,
   "id": "081757bb",
   "metadata": {},
   "outputs": [
    {
     "name": "stdout",
     "output_type": "stream",
     "text": [
      "훈련 데이터:(42000, 28, 28), 레이블:(42000,)\n",
      "검증 데이터:(18000, 28, 28), 레이블:(18000,)\n"
     ]
    }
   ],
   "source": [
    "# 검증 :  train set을 train set과 validation set으로 나누어 검증\n",
    "from sklearn.model_selection import train_test_split\n",
    "\n",
    "# 훈련 데이터를 7:3의 비율로 분리해서 훈련데이터와 검증데이터를 만든다\n",
    "XX_train, XX_val, yy_train, yy_val = train_test_split(X_train, y_train, test_size=0.3, random_state=777)\n",
    "# random_state = 777 seed같은 역할 숫자는 아무거나 괜찮음\n",
    "print(f'훈련 데이터:{XX_train.shape}, 레이블:{yy_train.shape}')\n",
    "print(f'검증 데이터:{XX_val.shape}, 레이블:{yy_val.shape}')"
   ]
  },
  {
   "cell_type": "code",
   "execution_count": 31,
   "id": "5d54e78c",
   "metadata": {},
   "outputs": [
    {
     "name": "stdout",
     "output_type": "stream",
     "text": [
      "Epoch 1/5\n",
      "1313/1313 [==============================] - 3s 2ms/step - loss: 0.0255 - acc: 0.9919 - val_loss: 0.0258 - val_acc: 0.9919\n",
      "Epoch 2/5\n",
      "1313/1313 [==============================] - 3s 2ms/step - loss: 0.0153 - acc: 0.9954 - val_loss: 0.0282 - val_acc: 0.9909\n",
      "Epoch 3/5\n",
      "1313/1313 [==============================] - 3s 2ms/step - loss: 0.0152 - acc: 0.9950 - val_loss: 0.0349 - val_acc: 0.9883\n",
      "Epoch 4/5\n",
      "1313/1313 [==============================] - 3s 2ms/step - loss: 0.0115 - acc: 0.9962 - val_loss: 0.0315 - val_acc: 0.9891\n",
      "Epoch 5/5\n",
      "1313/1313 [==============================] - 2s 2ms/step - loss: 0.0100 - acc: 0.9965 - val_loss: 0.0374 - val_acc: 0.9884\n"
     ]
    }
   ],
   "source": [
    "# 초기 모델\n",
    "history = model.fit(XX_train, yy_train, epochs=5, validation_data=(XX_val, yy_val))"
   ]
  },
  {
   "cell_type": "code",
   "execution_count": 32,
   "id": "f03403f2",
   "metadata": {},
   "outputs": [
    {
     "data": {
      "text/plain": [
       "dict_keys(['loss', 'acc', 'val_loss', 'val_acc'])"
      ]
     },
     "execution_count": 32,
     "metadata": {},
     "output_type": "execute_result"
    }
   ],
   "source": [
    "# 시각화\n",
    "history.history.keys()"
   ]
  },
  {
   "cell_type": "code",
   "execution_count": 34,
   "id": "890a4610",
   "metadata": {},
   "outputs": [
    {
     "data": {
      "image/png": "[encoded data removed]",
      "text/plain": [
       "<Figure size 1000x500 with 2 Axes>"
      ]
     },
     "metadata": {},
     "output_type": "display_data"
    }
   ],
   "source": [
    "import matplotlib.pyplot as plt\n",
    "\n",
    "def draw_acc_loss_val(his_dict):\n",
    "    loss = his_dict['loss']\n",
    "    val_loss = his_dict['val_loss'] # 검증 데이터\n",
    "\n",
    "    epochs = range(1, len(loss) + 1)\n",
    "    plt.figure(figsize = (10, 5))\n",
    "\n",
    "    # 훈련 및 검증 손실 그리기\n",
    "    plt.subplot(1, 2, 1)\n",
    "    plt.plot(epochs, loss, color = 'blue', label = 'train_loss')\n",
    "    plt.plot(epochs, val_loss, color = 'orange', label = 'val_loss')\n",
    "    plt.title('train and val loss')\n",
    "    plt.xlabel('epochs')\n",
    "    plt.ylabel('loss')\n",
    "    plt.legend()\n",
    "\n",
    "    acc = his_dict['acc']\n",
    "    val_acc = his_dict['val_acc']\n",
    "\n",
    "    # 훈련 및 검증 정확도 그리기\n",
    "    plt.subplot(1, 2, 2)\n",
    "    plt.plot(epochs, acc, color = 'red', label = 'train_acc')\n",
    "    plt.plot(epochs, val_acc, color = 'orange', label = 'val_acc')\n",
    "    plt.title('train and val accuracy')\n",
    "    plt.xlabel('epochs')\n",
    "    plt.ylabel('accuracy')\n",
    "    plt.legend()\n",
    "\n",
    "    plt.show()\n",
    "\n",
    "draw_acc_loss_val(history.history)"
   ]
  },
  {
   "cell_type": "code",
   "execution_count": 36,
   "id": "376a24a2",
   "metadata": {},
   "outputs": [
    {
     "data": {
      "text/plain": [
       "<matplotlib.image.AxesImage at 0x236916583d0>"
      ]
     },
     "execution_count": 36,
     "metadata": {},
     "output_type": "execute_result"
    },
    {
     "data": {
      "image/png": "[encoded data removed]",
      "text/plain": [
       "<Figure size 640x480 with 1 Axes>"
      ]
     },
     "metadata": {},
     "output_type": "display_data"
    }
   ],
   "source": [
    "X_test.shape # (10000, 28, 28)\n",
    "\n",
    "# 새로운 이미지로 테스트\n",
    "randIdx = np.random.randint(0,9999)   # 10,000개의 테스트 이미지 중 하나를 선택\n",
    "plt.imshow(X_test[randIdx], cmap=\"Greys\")"
   ]
  },
  {
   "cell_type": "code",
   "execution_count": 37,
   "id": "667ce6c6",
   "metadata": {},
   "outputs": [
    {
     "ename": "ValueError",
     "evalue": "in user code:\n\n    File \"D:\\Anaconda\\lib\\site-packages\\keras\\src\\engine\\training.py\", line 2440, in predict_function  *\n        return step_function(self, iterator)\n    File \"D:\\Anaconda\\lib\\site-packages\\keras\\src\\engine\\training.py\", line 2425, in step_function  **\n        outputs = model.distribute_strategy.run(run_step, args=(data,))\n    File \"D:\\Anaconda\\lib\\site-packages\\keras\\src\\engine\\training.py\", line 2413, in run_step  **\n        outputs = model.predict_step(data)\n    File \"D:\\Anaconda\\lib\\site-packages\\keras\\src\\engine\\training.py\", line 2381, in predict_step\n        return self(x, training=False)\n    File \"D:\\Anaconda\\lib\\site-packages\\keras\\src\\utils\\traceback_utils.py\", line 70, in error_handler\n        raise e.with_traceback(filtered_tb) from None\n    File \"D:\\Anaconda\\lib\\site-packages\\keras\\src\\engine\\input_spec.py\", line 280, in assert_input_compatibility\n        raise ValueError(\n\n    ValueError: Exception encountered when calling layer 'sequential' (type Sequential).\n    \n    Input 0 of layer \"dense\" is incompatible with the layer: expected axis -1 of input shape to have value 784, but received input with shape (None, 28)\n    \n    Call arguments received by layer 'sequential' (type Sequential):\n      • inputs=tf.Tensor(shape=(None, 28), dtype=float32)\n      • training=False\n      • mask=None\n",
     "output_type": "error",
     "traceback": [
      "\u001b[1;31m---------------------------------------------------------------------------\u001b[0m",
      "\u001b[1;31mValueError\u001b[0m                                Traceback (most recent call last)",
      "Cell \u001b[1;32mIn [37], line 2\u001b[0m\n\u001b[0;32m      1\u001b[0m \u001b[38;5;66;03m# 2차원 데이터를 3차원으로 수정 필요 error 발생\u001b[39;00m\n\u001b[1;32m----> 2\u001b[0m y_hat \u001b[38;5;241m=\u001b[39m model\u001b[38;5;241m.\u001b[39mpredict(X_test[randIdx])\n",
      "File \u001b[1;32mD:\\Anaconda\\lib\\site-packages\\keras\\src\\utils\\traceback_utils.py:70\u001b[0m, in \u001b[0;36mfilter_traceback.<locals>.error_handler\u001b[1;34m(*args, **kwargs)\u001b[0m\n\u001b[0;32m     67\u001b[0m     filtered_tb \u001b[38;5;241m=\u001b[39m _process_traceback_frames(e\u001b[38;5;241m.\u001b[39m__traceback__)\n\u001b[0;32m     68\u001b[0m     \u001b[38;5;66;03m# To get the full stack trace, call:\u001b[39;00m\n\u001b[0;32m     69\u001b[0m     \u001b[38;5;66;03m# `tf.debugging.disable_traceback_filtering()`\u001b[39;00m\n\u001b[1;32m---> 70\u001b[0m     \u001b[38;5;28;01mraise\u001b[39;00m e\u001b[38;5;241m.\u001b[39mwith_traceback(filtered_tb) \u001b[38;5;28;01mfrom\u001b[39;00m \u001b[38;5;28mNone\u001b[39m\n\u001b[0;32m     71\u001b[0m \u001b[38;5;28;01mfinally\u001b[39;00m:\n\u001b[0;32m     72\u001b[0m     \u001b[38;5;28;01mdel\u001b[39;00m filtered_tb\n",
      "File \u001b[1;32m~\\AppData\\Local\\Temp\\__autograph_generated_filedqbv9le7.py:15\u001b[0m, in \u001b[0;36mouter_factory.<locals>.inner_factory.<locals>.tf__predict_function\u001b[1;34m(iterator)\u001b[0m\n\u001b[0;32m     13\u001b[0m \u001b[38;5;28;01mtry\u001b[39;00m:\n\u001b[0;32m     14\u001b[0m     do_return \u001b[38;5;241m=\u001b[39m \u001b[38;5;28;01mTrue\u001b[39;00m\n\u001b[1;32m---> 15\u001b[0m     retval_ \u001b[38;5;241m=\u001b[39m ag__\u001b[38;5;241m.\u001b[39mconverted_call(ag__\u001b[38;5;241m.\u001b[39mld(step_function), (ag__\u001b[38;5;241m.\u001b[39mld(\u001b[38;5;28mself\u001b[39m), ag__\u001b[38;5;241m.\u001b[39mld(iterator)), \u001b[38;5;28;01mNone\u001b[39;00m, fscope)\n\u001b[0;32m     16\u001b[0m \u001b[38;5;28;01mexcept\u001b[39;00m:\n\u001b[0;32m     17\u001b[0m     do_return \u001b[38;5;241m=\u001b[39m \u001b[38;5;28;01mFalse\u001b[39;00m\n",
      "\u001b[1;31mValueError\u001b[0m: in user code:\n\n    File \"D:\\Anaconda\\lib\\site-packages\\keras\\src\\engine\\training.py\", line 2440, in predict_function  *\n        return step_function(self, iterator)\n    File \"D:\\Anaconda\\lib\\site-packages\\keras\\src\\engine\\training.py\", line 2425, in step_function  **\n        outputs = model.distribute_strategy.run(run_step, args=(data,))\n    File \"D:\\Anaconda\\lib\\site-packages\\keras\\src\\engine\\training.py\", line 2413, in run_step  **\n        outputs = model.predict_step(data)\n    File \"D:\\Anaconda\\lib\\site-packages\\keras\\src\\engine\\training.py\", line 2381, in predict_step\n        return self(x, training=False)\n    File \"D:\\Anaconda\\lib\\site-packages\\keras\\src\\utils\\traceback_utils.py\", line 70, in error_handler\n        raise e.with_traceback(filtered_tb) from None\n    File \"D:\\Anaconda\\lib\\site-packages\\keras\\src\\engine\\input_spec.py\", line 280, in assert_input_compatibility\n        raise ValueError(\n\n    ValueError: Exception encountered when calling layer 'sequential' (type Sequential).\n    \n    Input 0 of layer \"dense\" is incompatible with the layer: expected axis -1 of input shape to have value 784, but received input with shape (None, 28)\n    \n    Call arguments received by layer 'sequential' (type Sequential):\n      • inputs=tf.Tensor(shape=(None, 28), dtype=float32)\n      • training=False\n      • mask=None\n"
     ]
    }
   ],
   "source": [
    "# 2차원 데이터를 3차원으로 수정 필요 error 발생\n",
    "y_hat = model.predict(X_test[randIdx])"
   ]
  },
  {
   "cell_type": "code",
   "execution_count": 38,
   "id": "7df222b1",
   "metadata": {},
   "outputs": [
    {
     "name": "stdout",
     "output_type": "stream",
     "text": [
      "1/1 [==============================] - 0s 42ms/step\n",
      "[[7.4991680e-11 9.9993551e-01 5.2283171e-11 2.6409672e-09 1.0795799e-09\n",
      "  3.1512976e-11 4.2549439e-07 1.4800470e-06 6.2653125e-05 8.4499269e-11]]\n",
      "손글씨 판정:  1\n"
     ]
    }
   ],
   "source": [
    "# 각각의 레이블과 일치하는 정도를 0에서 1 사이의 확률값으로 출력\n",
    "# 2차원 데이터를 3차원으로 수정 필요\n",
    "y_hat = model.predict(X_test[randIdx][np.newaxis, :,:])\n",
    "print(y_hat)\n",
    "print(\"손글씨 판정: \", y_hat.argmax())"
   ]
  },
  {
   "cell_type": "raw",
   "id": "8cadee49",
   "metadata": {},
   "source": [
    "# 그림 불러와서 사용하고 싶을 때\n",
    "import matplotlib.image as mpimg\n",
    "import matplotlib.pyplot as plt\n",
    "\n",
    "img = mpimg.imread(\"/content/zero.png\")\n",
    "plt.imshow(img, cmap='Greys')\n",
    "\n",
    "# 이미지의 사이즈를 28X28로 맞춰주기 위해서 사용함\n",
    "import cv2\n",
    "img = cv2.imread(\"/content/zero.png\", cv2.IMREAD_GRAYSCALE)\n",
    "img = cv2.resize(img, (28,28))\n",
    "plt.imshow(img, cmap=\"Greys\")\n",
    "\n",
    "# 분류 예측 실행\n",
    "num = img\n",
    "for i in range(28):\n",
    "  for j in range(28):\n",
    "    print(f\"{num[i][j] : 4f}\", end='')\n",
    "  print()\n",
    "\n",
    "print()\n",
    "y_train[0]\n",
    "\n",
    "# 정규화\n",
    "img = (255-img) / 255\n",
    "plt.imshow(img, cmap=\"Greys\")\n",
    "\n",
    "# 결과\n",
    "y_hat = model.predict(img[np.newaxis, :,:])\n",
    "print(y_hat)\n",
    "print(\"손글씨 판정: \", y_hat.argmax())"
   ]
  }
 ],
 "metadata": {
  "kernelspec": {
   "display_name": "Python 3 (ipykernel)",
   "language": "python",
   "name": "python3"
  },
  "language_info": {
   "codemirror_mode": {
    "name": "ipython",
    "version": 3
   },
   "file_extension": ".py",
   "mimetype": "text/x-python",
   "name": "python",
   "nbconvert_exporter": "python",
   "pygments_lexer": "ipython3",
   "version": "3.9.12"
  }
 },
 "nbformat": 4,
 "nbformat_minor": 5
}
