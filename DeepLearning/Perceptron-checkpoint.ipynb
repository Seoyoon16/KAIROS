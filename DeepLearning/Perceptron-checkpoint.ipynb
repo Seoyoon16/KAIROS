{
 "cells": [
  {
   "cell_type": "markdown",
   "id": "ac88ff41",
   "metadata": {},
   "source": [
    "## 퍼셉트론"
   ]
  },
  {
   "cell_type": "markdown",
   "id": "e742c408",
   "metadata": {},
   "source": [
    "Multi-Layer Perceptron : Back Propagation & Feed Forward"
   ]
  },
  {
   "cell_type": "code",
   "execution_count": 1,
   "id": "6e09266e",
   "metadata": {},
   "outputs": [],
   "source": [
    "# 역전파 클래스\n",
    "class Neuron:\n",
    "    def __init__(self, w, b):\n",
    "        # 생성자에서는 가중치(w)와 바이어스(b)를 초기화합니다.\n",
    "        self.w = w\n",
    "        self.b = b\n",
    "\n",
    "    # 순전파\n",
    "    def feedForward(self, input):\n",
    "        sigma = self.w * input + self.b\n",
    "        self.input = input\n",
    "        self.output = self.getActivation(sigma)\n",
    "        return self.output\n",
    "\n",
    "    # 활성화 함수를 정의하는 메서드입니다.\n",
    "    # 현재는 선형 활성화 함수(즉, 입력을 그대로 출력)를 사용합니다.\n",
    "    def getActivation(self, x):\n",
    "      return x\n",
    "\n",
    "\n",
    "    # 활성화 함수의 그래디언트(미분값)를 반환하는 메서드입니다.\n",
    "    # 현재는 선형 활성화 함수의 그래디언트(항상 1)를 반환합니다.\n",
    "    def getActGrad(self, x):\n",
    "      return 1.0\n",
    "\n",
    "\n",
    "    # 역전파 메서드: 출력과 타겟 값 사이의 오차를 바탕으로 가중치와 바이어스를 업데이트합니다.\n",
    "    def propBackward(self, target):\n",
    "        a = 0.1\n",
    "        error = self.output - target\n",
    "        self.w = self.w - a * error * self.getActGrad(self.output) * self.input"
   ]
  },
  {
   "cell_type": "code",
   "execution_count": 2,
   "id": "4beb6b46",
   "metadata": {},
   "outputs": [],
   "source": [
    "# 역전파 객체 생성 : w 2.0, b 1.0\n",
    "neuron = Neuron(2.0, 1.0)"
   ]
  },
  {
   "cell_type": "code",
   "execution_count": 5,
   "id": "bdb28661",
   "metadata": {},
   "outputs": [
    {
     "name": "stdout",
     "output_type": "stream",
     "text": [
      "input 1.0 >>> 6.999911461132711\n",
      "input 1.0 >>> 7.1999203150194395\n",
      "input 1.0 >>> 7.379928283517495\n",
      "input 1.0 >>> 7.541935455165746\n",
      "input 1.0 >>> 7.687741909649171\n",
      "input 1.0 >>> 7.818967718684254\n",
      "input 1.0 >>> 7.937070946815829\n",
      "input 1.0 >>> 8.043363852134245\n",
      "input 1.0 >>> 8.139027466920822\n",
      "input 1.0 >>> 8.225124720228738\n",
      "input 1.0 >>> 8.302612248205865\n",
      "input 1.0 >>> 8.372351023385278\n",
      "input 1.0 >>> 8.435115921046751\n",
      "input 1.0 >>> 8.491604328942074\n",
      "input 1.0 >>> 8.542443896047867\n",
      "input 1.0 >>> 8.58819950644308\n",
      "input 1.0 >>> 8.629379555798772\n",
      "input 1.0 >>> 8.666441600218896\n",
      "input 1.0 >>> 8.699797440197006\n",
      "input 1.0 >>> 8.729817696177305\n",
      "input 1.0 >>> 8.756835926559575\n",
      "input 1.0 >>> 8.781152333903616\n",
      "input 1.0 >>> 8.803037100513254\n",
      "input 1.0 >>> 8.82273339046193\n",
      "input 1.0 >>> 8.840460051415736\n",
      "input 1.0 >>> 8.856414046274164\n",
      "input 1.0 >>> 8.870772641646747\n",
      "input 1.0 >>> 8.883695377482073\n",
      "input 1.0 >>> 8.895325839733864\n",
      "input 1.0 >>> 8.905793255760479\n",
      "input 1.0 >>> 8.91521393018443\n",
      "input 1.0 >>> 8.923692537165987\n",
      "input 1.0 >>> 8.931323283449387\n",
      "input 1.0 >>> 8.93819095510445\n",
      "input 1.0 >>> 8.944371859594003\n",
      "input 1.0 >>> 8.949934673634605\n",
      "input 1.0 >>> 8.954941206271144\n",
      "input 1.0 >>> 8.95944708564403\n",
      "input 1.0 >>> 8.963502377079624\n",
      "input 1.0 >>> 8.967152139371663\n",
      "input 1.0 >>> 8.970436925434496\n",
      "input 1.0 >>> 8.973393232891047\n",
      "input 1.0 >>> 8.97605390960194\n",
      "input 1.0 >>> 8.978448518641748\n",
      "input 1.0 >>> 8.980603666777572\n",
      "input 1.0 >>> 8.982543300099817\n",
      "input 1.0 >>> 8.984288970089835\n",
      "input 1.0 >>> 8.98586007308085\n",
      "input 1.0 >>> 8.987274065772766\n",
      "input 1.0 >>> 8.988546659195489\n",
      "input 1.0 >>> 8.98969199327594\n",
      "input 1.0 >>> 8.990722793948347\n",
      "input 1.0 >>> 8.991650514553513\n",
      "input 1.0 >>> 8.992485463098161\n",
      "input 1.0 >>> 8.993236916788344\n",
      "input 1.0 >>> 8.99391322510951\n",
      "input 1.0 >>> 8.99452190259856\n",
      "input 1.0 >>> 8.995069712338704\n",
      "input 1.0 >>> 8.995562741104834\n",
      "input 1.0 >>> 8.996006466994348\n",
      "input 1.0 >>> 8.996405820294914\n",
      "input 1.0 >>> 8.996765238265423\n",
      "input 1.0 >>> 8.997088714438881\n",
      "input 1.0 >>> 8.997379842994993\n",
      "input 1.0 >>> 8.997641858695495\n",
      "input 1.0 >>> 8.997877672825943\n",
      "input 1.0 >>> 8.998089905543349\n",
      "input 1.0 >>> 8.998280914989014\n",
      "input 1.0 >>> 8.998452823490112\n",
      "input 1.0 >>> 8.998607541141102\n",
      "input 1.0 >>> 8.998746787026992\n",
      "input 1.0 >>> 8.998872108324292\n",
      "input 1.0 >>> 8.998984897491862\n",
      "input 1.0 >>> 8.999086407742677\n",
      "input 1.0 >>> 8.999177766968408\n",
      "input 1.0 >>> 8.999259990271568\n",
      "input 1.0 >>> 8.999333991244411\n",
      "input 1.0 >>> 8.999400592119969\n",
      "input 1.0 >>> 8.999460532907973\n",
      "input 1.0 >>> 8.999514479617176\n",
      "input 1.0 >>> 8.999563031655459\n",
      "input 1.0 >>> 8.999606728489912\n",
      "input 1.0 >>> 8.99964605564092\n",
      "input 1.0 >>> 8.999681450076828\n",
      "input 1.0 >>> 8.999713305069147\n",
      "input 1.0 >>> 8.99974197456223\n",
      "input 1.0 >>> 8.999767777106008\n",
      "input 1.0 >>> 8.999790999395408\n",
      "input 1.0 >>> 8.999811899455867\n",
      "input 1.0 >>> 8.999830709510281\n",
      "input 1.0 >>> 8.999847638559253\n",
      "input 1.0 >>> 8.999862874703325\n",
      "input 1.0 >>> 8.999876587232993\n",
      "input 1.0 >>> 8.999888928509694\n",
      "input 1.0 >>> 8.999900035658726\n",
      "input 1.0 >>> 8.999910032092853\n",
      "input 1.0 >>> 8.999919028883568\n",
      "input 1.0 >>> 8.99992712599521\n",
      "input 1.0 >>> 8.999934413395689\n"
     ]
    }
   ],
   "source": [
    "# 역전파 수행\n",
    "for _ in range(1, 100):\n",
    "  print(\"input 1.0 >>> {}\".format(neuron.feedForward(1.0)))\n",
    "  neuron.propBackward(9.0)"
   ]
  },
  {
   "cell_type": "markdown",
   "id": "3b52b467",
   "metadata": {},
   "source": [
    "숫자 9에 가까워지는 것을 볼 수 있음"
   ]
  },
  {
   "cell_type": "markdown",
   "id": "f042bb93",
   "metadata": {},
   "source": []
  },
  {
   "cell_type": "markdown",
   "id": "339d2612",
   "metadata": {},
   "source": [
    "Single-Layer Perceptron : Only Feed Forward"
   ]
  },
  {
   "cell_type": "code",
   "execution_count": 6,
   "id": "392c938d",
   "metadata": {},
   "outputs": [],
   "source": [
    "# 순전파 클래스\n",
    "class Neuron_f:\n",
    "    def __init__(self, w, b):\n",
    "      self.w = w\n",
    "      self.b = b\n",
    "\n",
    "    def feedForword(self, input):\n",
    "      sigma = self.w * input + self.b\n",
    "      return self.getAct(sigma)\n",
    "\n",
    "    def getAct(self, x):\n",
    "      return x"
   ]
  },
  {
   "cell_type": "code",
   "execution_count": 7,
   "id": "d66f8450",
   "metadata": {},
   "outputs": [],
   "source": [
    "# 순전파 객체 생성\n",
    "neuron = Neuron_f(2.0, 1.0)"
   ]
  },
  {
   "cell_type": "code",
   "execution_count": 8,
   "id": "9da53c09",
   "metadata": {},
   "outputs": [
    {
     "name": "stdout",
     "output_type": "stream",
     "text": [
      "Input 1.0 -> Output 3.0\n",
      "Input 2.0 -> Output 5.0\n",
      "Input 3.0 -> Output 7.0\n"
     ]
    }
   ],
   "source": [
    "# 순전파 수행\n",
    "print ('Input 1.0 -> Output {}'.format(neuron.feedForword(1.0)))\n",
    "print ('Input 2.0 -> Output {}'.format(neuron.feedForword(2.0)))\n",
    "print ('Input 3.0 -> Output {}'.format(neuron.feedForword(3.0)))"
   ]
  },
  {
   "cell_type": "raw",
   "id": "8335cf7e",
   "metadata": {},
   "source": [
    "MLP : 순전파를 통해 최종 출력값과 실제값의 오차 확인\n",
    "역전파를 통해 최종 출력값과 실제값의 오차가 최소화 되도록 가중치와 바이어스 업데이트"
   ]
  },
  {
   "cell_type": "raw",
   "id": "6ec368dd",
   "metadata": {},
   "source": [
    "층과 노드 :\n",
    "층은 뉴런의 집합, 입력층, 은닉층, 출력층으로 구분\n",
    "노드는 각 층에서 처리되는 데이터의 단위, =뉴런, 층의 노드 수는 해당 층의 크기를 나타냄\n",
    "\n",
    "Neuron class 는 역전파를 사용하여 단일 뉴런의 학습을 다루는 코드 - MLP의 일부"
   ]
  },
  {
   "cell_type": "markdown",
   "id": "54a990a6",
   "metadata": {},
   "source": []
  }
 ],
 "metadata": {
  "kernelspec": {
   "display_name": "Python 3 (ipykernel)",
   "language": "python",
   "name": "python3"
  },
  "language_info": {
   "codemirror_mode": {
    "name": "ipython",
    "version": 3
   },
   "file_extension": ".py",
   "mimetype": "text/x-python",
   "name": "python",
   "nbconvert_exporter": "python",
   "pygments_lexer": "ipython3",
   "version": "3.9.12"
  }
 },
 "nbformat": 4,
 "nbformat_minor": 5
}
